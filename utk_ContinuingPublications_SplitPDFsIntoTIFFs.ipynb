{
 "cells": [
  {
   "cell_type": "code",
   "execution_count": 1,
   "metadata": {
    "code_folding": [
     0
    ],
    "scrolled": true
   },
   "outputs": [
    {
     "name": "stdout",
     "output_type": "stream",
     "text": [
      "Version: ImageMagick 7.0.8-32 Q16 x64 2019-03-05 http://www.imagemagick.org\n",
      "Copyright: Copyright (C) 1999-2018 ImageMagick Studio LLC\n",
      "License: http://www.imagemagick.org/script/license.php\n",
      "Visual C++: 180040629\n",
      "Features: Cipher DPC Modules OpenMP \n",
      "Delegates (built-in): bzlib cairo flif freetype gslib heic jng jp2 jpeg lcms lqr lzma openexr pangocairo png ps raw rsvg tiff webp xml zlib\n"
     ]
    }
   ],
   "source": [
    "# make sure you have ImageMagick 7+ installed\n",
    "!magick --version"
   ]
  },
  {
   "cell_type": "code",
   "execution_count": 2,
   "metadata": {
    "code_folding": [
     0
    ]
   },
   "outputs": [],
   "source": [
    "# ghostscript for Windows must also be installed as ImageMagick uses GhostScript\n",
    "# had errors using Ghostscript 9.26, Ghostscript 9.25 works, though\n",
    "# https://www.ghostscript.com/"
   ]
  },
  {
   "cell_type": "code",
   "execution_count": 3,
   "metadata": {
    "code_folding": [
     0
    ]
   },
   "outputs": [
    {
     "data": {
      "text/html": [
       "<style>.container { width:95% !important; }</style>"
      ],
      "text/plain": [
       "<IPython.core.display.HTML object>"
      ]
     },
     "metadata": {},
     "output_type": "display_data"
    }
   ],
   "source": [
    "# imports and options\n",
    "import logging\n",
    "import shutil\n",
    "from pathlib import Path\n",
    "\n",
    "from ipywidgets import IntProgress, Label, VBox\n",
    "from IPython.display import display\n",
    "from PIL import Image\n",
    "from PyPDF2 import PdfFileReader\n",
    "\n",
    "# set Logging Configuration with current level at INFO\n",
    "logging.basicConfig(format='%(levelname)s:%(message)s', level=logging.INFO)\n",
    "\n",
    "# set display at 95% width\n",
    "from IPython.core.display import display, HTML\n",
    "display(HTML('<style>.container { width:95% !important; }</style>'))"
   ]
  },
  {
   "cell_type": "code",
   "execution_count": 4,
   "metadata": {
    "code_folding": [
     0
    ]
   },
   "outputs": [],
   "source": [
    "# set root PDF directory and create PDF paths list\n",
    "pdf_directory = r'Z:\\ContinuingPublications\\Phoenix\\work'  # use Raw string for Windows paths\n",
    "pdf_directory_path = Path(pdf_directory)\n",
    "pdf_paths_list = sorted(pdf_directory_path.glob('*.pdf'))  # NOT recursive"
   ]
  },
  {
   "cell_type": "code",
   "execution_count": 5,
   "metadata": {
    "code_folding": []
   },
   "outputs": [
    {
     "name": "stdout",
     "output_type": "stream",
     "text": [
      "Processing phoenix_2015fall.pdf . . .\n",
      "********************************************\n",
      "Output directory already exists for phoenix_2015fall.pdf; file will be skipped, delete directory and re-run to process\n",
      "\n",
      "Processing phoenix_2016fall.pdf . . .\n",
      "# of pages: 36\n"
     ]
    },
    {
     "name": "stderr",
     "output_type": "stream",
     "text": [
      "PdfReadWarning: Xref table not zero-indexed. ID numbers for objects will be corrected. [pdf.py:1736]\n"
     ]
    },
    {
     "data": {
      "application/vnd.jupyter.widget-view+json": {
       "model_id": "0daff70b6fda4dd1a1edaf7f3c0b1475",
       "version_major": 2,
       "version_minor": 0
      },
      "text/plain": [
       "VBox(children=(Label(value='Processing phoenix_2016fall.pdf . . .'), IntProgress(value=0, max=36)))"
      ]
     },
     "metadata": {},
     "output_type": "display_data"
    },
    {
     "name": "stdout",
     "output_type": "stream",
     "text": [
      "36 TIFFs created in Z:\\ContinuingPublications\\Phoenix\\work\\phoenix_2016fall\n",
      "\n",
      "Processing phoenix_2017spring.pdf . . .\n",
      "# of pages: 36\n"
     ]
    },
    {
     "data": {
      "application/vnd.jupyter.widget-view+json": {
       "model_id": "daebb8b767f24f23a158c446c5cf21b3",
       "version_major": 2,
       "version_minor": 0
      },
      "text/plain": [
       "VBox(children=(Label(value='Processing phoenix_2017spring.pdf . . .'), IntProgress(value=0, max=36)))"
      ]
     },
     "metadata": {},
     "output_type": "display_data"
    },
    {
     "name": "stdout",
     "output_type": "stream",
     "text": [
      "36 TIFFs created in Z:\\ContinuingPublications\\Phoenix\\work\\phoenix_2017spring\n",
      "\n",
      "Processing phoenix_2018spring.pdf . . .\n",
      "# of pages: 36\n"
     ]
    },
    {
     "data": {
      "application/vnd.jupyter.widget-view+json": {
       "model_id": "0c885a3f4da1464bb41490e1819d2368",
       "version_major": 2,
       "version_minor": 0
      },
      "text/plain": [
       "VBox(children=(Label(value='Processing phoenix_2018spring.pdf . . .'), IntProgress(value=0, max=36)))"
      ]
     },
     "metadata": {},
     "output_type": "display_data"
    },
    {
     "name": "stdout",
     "output_type": "stream",
     "text": [
      "36 TIFFs created in Z:\\ContinuingPublications\\Phoenix\\work\\phoenix_2018spring\n",
      "\n"
     ]
    }
   ],
   "source": [
    "# process PDF paths list\n",
    "\n",
    "# set PDF output dpi\n",
    "dpi = 300\n",
    "\n",
    "# process all pdfs in paths list\n",
    "for pdf_path in pdf_paths_list:\n",
    "    \n",
    "    print(f'Processing {pdf_path.name} . . .')\n",
    "    \n",
    "    # create a local data directory and temporaryorary PDF path\n",
    "    temporary_directory_path = Path('data')\n",
    "    temporary_directory_path.mkdir(exist_ok=True)\n",
    "    temporary_pdf_path = temporary_directory_path.joinpath(pdf_path.name)\n",
    "    \n",
    "    # copy PDF to local directory\n",
    "    shutil.copy(pdf_path, temporary_pdf_path)\n",
    "        \n",
    "    # try to create final output directory\n",
    "    try:\n",
    "        final_output_directory_path = pdf_path.parents[0].joinpath(pdf_path.stem)\n",
    "        final_output_directory_path.mkdir()\n",
    "    except FileExistsError:  # breaks if directory already exists so we don't overwrite anything\n",
    "        print('********************************************')\n",
    "        print(f'Output directory already exists for {pdf_path.name}; file will be skipped, delete directory and re-run to process')\n",
    "        print('')\n",
    "        \n",
    "        # delete temporary PDF file and continue with next pdf_path\n",
    "        temporary_pdf_path.unlink()\n",
    "        continue    \n",
    "    \n",
    "    # open PDF with PyPDF2 and get the number of pages\n",
    "    f = open(temporary_pdf_path, 'rb')\n",
    "    pdf = PdfFileReader(f)\n",
    "    number_of_pages = pdf.getNumPages()\n",
    "    f.close()\n",
    "    print(f'# of pages: {number_of_pages}')\n",
    "    \n",
    "    # instantiate progress bar\n",
    "    label = f'Processing {temporary_pdf_path.name} . . .'\n",
    "    progress_label = Label(label)\n",
    "    progress_bar = IntProgress(min=0, max=number_of_pages)\n",
    "    progress_widget = VBox([progress_label, progress_bar])\n",
    "    display(progress_widget)\n",
    "    \n",
    "    # loop through PDF pages\n",
    "    for i in range(number_of_pages):\n",
    "        \n",
    "        # set output name and temporary output paths\n",
    "        output_name = f'{str(pdf_path.stem)}_{str(i+1).zfill(4)}.tif'\n",
    "        temporary_image_path = temporary_directory_path.joinpath(output_name)\n",
    "        \n",
    "        # update progress bar label\n",
    "        label = f'Processing {temporary_pdf_path.name} page {i+1} . . .'\n",
    "        progress_label.value = label\n",
    "        \n",
    "        # convert PDF page to sRGB, 8-bit, with {dpi} settings\n",
    "        !magick -colorspace sRGB -depth 8 -density {dpi}x{dpi} -units pixelsperinch {str(temporary_pdf_path)}[{i}] {str(temporary_image_path)}\n",
    "        \n",
    "        # open temporaryorary file with Pillow and paste onto new background to flatten\n",
    "        image = Image.open(temporary_image_path)\n",
    "        image_new = Image.new(mode='RGB', size=image.size, color='white')\n",
    "        image_new.paste(image)\n",
    "        \n",
    "        # set final output path and save the flattened (pasted) image with {dpi} settings\n",
    "        final_output_path = final_output_directory_path.joinpath(output_name)\n",
    "        image_new.save(final_output_path, dpi=(dpi, dpi))\n",
    "        \n",
    "        # close temporary image and delete the temporary file\n",
    "        image.close()  # Windows doesn't seem to gracefully open/close images with Pillow like macOS\n",
    "        temporary_image_path.unlink()\n",
    "        \n",
    "        # update progress bar value\n",
    "        progress_bar.value = i + 1\n",
    "    \n",
    "    # \n",
    "    image_paths_list = list(final_output_directory_path.glob('*.tif'))\n",
    "    number_of_images = len(image_paths_list)\n",
    "    if number_of_images == number_of_pages:\n",
    "        print(f'{number_of_images} TIFFs created in {final_output_directory_path}')\n",
    "        print('')\n",
    "    else:\n",
    "        print('********************************************')\n",
    "        print(f'# of pages DOES NOT EQUAL # of final TIFFs: {number_of_pages} != {number_of_images}')\n",
    "        print('')\n",
    "        \n",
    "    # delete temporary pdf\n",
    "    temporary_pdf_path.unlink()"
   ]
  },
  {
   "cell_type": "code",
   "execution_count": null,
   "metadata": {},
   "outputs": [],
   "source": [
    "temporary_pdf_path"
   ]
  },
  {
   "cell_type": "code",
   "execution_count": null,
   "metadata": {},
   "outputs": [],
   "source": [
    "!del {str(temporary_pdf_path)}"
   ]
  },
  {
   "cell_type": "code",
   "execution_count": null,
   "metadata": {
    "code_folding": [
     0
    ],
    "deletable": false,
    "editable": false,
    "run_control": {
     "frozen": true
    },
    "scrolled": true
   },
   "outputs": [],
   "source": [
    "# manual processing for Debug\n",
    "pdf_path = pdf_paths_list[2]\n",
    "logging.info(f'{pdf_path.name}')\n",
    "pdf = PdfFileReader(open(str(pdf_path), 'rb'))\n",
    "number_of_pages = pdf.getNumPages()\n",
    "logging.info(f'# of pages: {number_of_pages}')\n",
    "\n",
    "pdf_output_directory_path = pdf_path.parents[0].joinpath(pdf_path.stem)\n",
    "pdf_output_directory_path.mkdir(exist_ok=True)  # create output directory with same name as PDF\n",
    "\n",
    "for i in range(number_of_pages):\n",
    "    print(i)\n",
    "    output_name = f'{str(pdf_path.stem)}_{str(i+1).zfill(4)}.tif'\n",
    "    print(output_name)\n",
    "    temp_path = Path('data').joinpath(output_name)\n",
    "    output_path = pdf_output_directory_path.joinpath(output_name)\n",
    "    !magick -colorspace sRGB -density 300x300 -depth 8 -units pixelsperinch +compress -verbose {str(pdf_path)}[{i}] {str(temp_path)}\n",
    "    image = Image.open(temp_path)\n",
    "    size = image.size\n",
    "    image_new = Image.new(mode='RGB', size=image.size, color='white')\n",
    "    image_new.paste(image, box=(0,0))\n",
    "    \n",
    "    image_new.save(output_path, dpi=(300, 300))\n",
    "    image.close()\n",
    "    temp_path.unlink()"
   ]
  }
 ],
 "metadata": {
  "kernelspec": {
   "display_name": "Python 3",
   "language": "python",
   "name": "python3"
  },
  "language_info": {
   "codemirror_mode": {
    "name": "ipython",
    "version": 3
   },
   "file_extension": ".py",
   "mimetype": "text/x-python",
   "name": "python",
   "nbconvert_exporter": "python",
   "pygments_lexer": "ipython3",
   "version": "3.6.8"
  }
 },
 "nbformat": 4,
 "nbformat_minor": 2
}
