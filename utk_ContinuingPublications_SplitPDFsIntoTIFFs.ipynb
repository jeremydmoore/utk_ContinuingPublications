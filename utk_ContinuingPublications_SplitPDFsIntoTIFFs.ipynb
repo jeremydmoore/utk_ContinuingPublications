{
 "cells": [
  {
   "cell_type": "code",
   "execution_count": 5,
   "metadata": {},
   "outputs": [
    {
     "name": "stdout",
     "output_type": "stream",
     "text": [
      "Version: ImageMagick 7.0.8-32 Q16 x64 2019-03-05 http://www.imagemagick.org\n",
      "Copyright: Copyright (C) 1999-2018 ImageMagick Studio LLC\n",
      "License: http://www.imagemagick.org/script/license.php\n",
      "Visual C++: 180040629\n",
      "Features: Cipher DPC Modules OpenMP \n",
      "Delegates (built-in): bzlib cairo flif freetype gslib heic jng jp2 jpeg lcms lqr lzma openexr pangocairo png ps raw rsvg tiff webp xml zlib\n"
     ]
    }
   ],
   "source": [
    "# make sure you have ImageMagick 7+ installed\n",
    "!magick --version"
   ]
  },
  {
   "cell_type": "code",
   "execution_count": 6,
   "metadata": {},
   "outputs": [],
   "source": [
    "# ghostscript for Windows must also be installed as ImageMagick uses GhostScript\n",
    "# had errors using Ghostscript 9.26, Ghostscript 9.25 works, though\n",
    "# https://www.ghostscript.com/"
   ]
  },
  {
   "cell_type": "code",
   "execution_count": 7,
   "metadata": {
    "scrolled": true
   },
   "outputs": [
    {
     "name": "stdout",
     "output_type": "stream",
     "text": [
      "# packages in environment at C:\\Users\\dlisla\\AppData\\Local\\conda\\conda\\envs\\img_qc:\n",
      "#\n",
      "# Name                    Version                   Build  Channel\n",
      "pypdf2                    1.26.0                     py_2    conda-forge\n"
     ]
    }
   ],
   "source": [
    "# also need PyPDF2\n",
    "!conda list PyPDF2"
   ]
  },
  {
   "cell_type": "code",
   "execution_count": 8,
   "metadata": {
    "code_folding": []
   },
   "outputs": [
    {
     "data": {
      "text/html": [
       "<style>.container { width:95% !important; }</style>"
      ],
      "text/plain": [
       "<IPython.core.display.HTML object>"
      ]
     },
     "metadata": {},
     "output_type": "display_data"
    }
   ],
   "source": [
    "# imports and options\n",
    "import logging\n",
    "from pathlib import Path\n",
    "from subprocess import run\n",
    "\n",
    "import pandas as pd\n",
    "from ipywidgets import IntProgress, Label, VBox\n",
    "from IPython.display import display\n",
    "\n",
    "# set Logging Configuration with current level at INFO\n",
    "logging.basicConfig(format='%(levelname)s:%(message)s', level=logging.INFO)\n",
    "\n",
    "# set display at 95% width\n",
    "from IPython.core.display import display, HTML\n",
    "display(HTML('<style>.container { width:95% !important; }</style>'))"
   ]
  },
  {
   "cell_type": "code",
   "execution_count": 9,
   "metadata": {},
   "outputs": [],
   "source": [
    "def pdf_to_tiff_300ppi(pdf_path):\n",
    "    pdf_output_directory_path = pdf_path.parents[0].joinpath(pdf_path.stem)\n",
    "    pdf_output_directory_path.mkdir(exist_ok=True)  # create output directory with same name as PDF\n",
    "    \n",
    "    # command to output TIFFs, use \"-scene 1\" to set first filename as 1 instead of 0\n",
    "    cmd = f'magick -colorspace sRGB -density 300x300 -units pixelsperinch -scene 1 {str(pdf_path)} {str(pdf_output_directory_path)}/{str(pdf_path.stem)}_%04d.tif'\n",
    "    \n",
    "    # run command with check=True to \n",
    "    run(cmd, check=True)"
   ]
  },
  {
   "cell_type": "code",
   "execution_count": null,
   "metadata": {},
   "outputs": [],
   "source": [
    "pdf_paths_list"
   ]
  },
  {
   "cell_type": "code",
   "execution_count": null,
   "metadata": {
    "scrolled": true
   },
   "outputs": [],
   "source": [
    "pdf_to_tiff_300ppi(pdf_paths_list[0])"
   ]
  },
  {
   "cell_type": "code",
   "execution_count": 12,
   "metadata": {},
   "outputs": [],
   "source": [
    "# set root PDF directory\n",
    "pdf_directory = r'Z:\\ContinuingPublications\\Phoenix\\work'  # use Raw string for Windows paths\n",
    "pdf_directory_path = Path(pdf_directory)\n",
    "\n",
    "pdf_paths_list = sorted(pdf_directory_path.glob('*.pdf'))  # NOT recursive"
   ]
  },
  {
   "cell_type": "code",
   "execution_count": null,
   "metadata": {},
   "outputs": [
    {
     "name": "stdout",
     "output_type": "stream",
     "text": [
      "Processing {pdf_path} . . . \n"
     ]
    }
   ],
   "source": [
    "for pdf_path in pdf_paths_list:\n",
    "    print('Processing {pdf_path} . . . ')\n",
    "    pdf_to_tiff_300ppi(pdf_path)\n",
    "    print('Processed {pdf_path.name}')"
   ]
  },
  {
   "cell_type": "code",
   "execution_count": null,
   "metadata": {},
   "outputs": [],
   "source": [
    "pdf_location = 'data/phoenix_2017spring.pdf'"
   ]
  },
  {
   "cell_type": "code",
   "execution_count": null,
   "metadata": {},
   "outputs": [],
   "source": [
    "pdf_directory_path = Path('data')"
   ]
  },
  {
   "cell_type": "code",
   "execution_count": null,
   "metadata": {},
   "outputs": [],
   "source": [
    "pdf_paths_list = sorted(pdf_directory_path.glob('*.pdf'))  # NOT RECURSIVE"
   ]
  },
  {
   "cell_type": "code",
   "execution_count": null,
   "metadata": {},
   "outputs": [],
   "source": [
    "for pdf_path in pdf_paths_list:\n",
    "    pdf_output_directory_path = pdf_directory_path.joinpath(pdf_path.stem)  # Path.stem for filename without extension\n",
    "    pdf_output_directory_path.mkdir()\n",
    "    # command to output TIFFs, -scene 1 sets first filename as 1\n",
    "    cmd = f'magick -colorspace sRGB -density 300x300 -units pixelsperinch -scene 1 {str(pdf_path)} {str(pdf_output_directory_path)}/{str(pdf_path.stem)}_%04d.tif'\n",
    "    call(cmd)"
   ]
  },
  {
   "cell_type": "code",
   "execution_count": null,
   "metadata": {},
   "outputs": [],
   "source": [
    "# command to output TIFFs\n",
    "cmd = f'magick -colorspace sRGB -density 300x300 -units pixelsperinch -scene 1 {pdf_location} {str(pdf_directory_path)}/output_%04d.tif'"
   ]
  },
  {
   "cell_type": "code",
   "execution_count": null,
   "metadata": {},
   "outputs": [],
   "source": [
    "call(cmd)"
   ]
  },
  {
   "cell_type": "code",
   "execution_count": null,
   "metadata": {},
   "outputs": [],
   "source": [
    "pdf_directory = r'Z:\\ContinuingPublications\\Phoenix\\work'  # windows uses Raw string"
   ]
  },
  {
   "cell_type": "code",
   "execution_count": null,
   "metadata": {},
   "outputs": [],
   "source": [
    "pdf_paths_list = sorted(Path(pdf_directory).glob('*.pdf'))\n",
    "pdf_paths_list"
   ]
  },
  {
   "cell_type": "code",
   "execution_count": null,
   "metadata": {},
   "outputs": [],
   "source": [
    "with wimage(filename=str(pdf_paths_list[3])) as pdf:\n",
    "    print(f'{pdf.format}')"
   ]
  },
  {
   "cell_type": "code",
   "execution_count": null,
   "metadata": {},
   "outputs": [],
   "source": [
    "# importing & options\n",
    "import datetime\n",
    "import logging\n",
    "import shutil\n",
    "import sys\n",
    "from pathlib import Path\n",
    "\n",
    "import pandas as pd\n",
    "from ipywidgets import IntProgress, Label, VBox\n",
    "from IPython.display import display\n",
    "\n",
    "# set Logging Configuration with current level at INFO\n",
    "logging.basicConfig(format='%(levelname)s:%(message)s', level=logging.INFO)\n",
    "\n",
    "# set display at 95% width\n",
    "from IPython.core.display import display, HTML\n",
    "display(HTML('<style>.container { width:95% !important; }</style>'))"
   ]
  }
 ],
 "metadata": {
  "kernelspec": {
   "display_name": "Python 3",
   "language": "python",
   "name": "python3"
  },
  "language_info": {
   "codemirror_mode": {
    "name": "ipython",
    "version": 3
   },
   "file_extension": ".py",
   "mimetype": "text/x-python",
   "name": "python",
   "nbconvert_exporter": "python",
   "pygments_lexer": "ipython3",
   "version": "3.6.8"
  }
 },
 "nbformat": 4,
 "nbformat_minor": 2
}
