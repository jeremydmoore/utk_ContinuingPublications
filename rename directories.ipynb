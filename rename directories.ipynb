{
 "cells": [
  {
   "cell_type": "markdown",
   "metadata": {},
   "source": [
    "Having issues on the server renaming directories via Finder so Python to the rescue"
   ]
  },
  {
   "cell_type": "code",
   "execution_count": 7,
   "metadata": {},
   "outputs": [],
   "source": [
    "from pathlib import Path"
   ]
  },
  {
   "cell_type": "code",
   "execution_count": 9,
   "metadata": {},
   "outputs": [],
   "source": [
    "root_directory_path = Path('/Volumes/fluffy/ContinuingPublications/BacklogApril2019/0.toProcessForUpload/Alumnus')\n",
    "stub_to_remove = '_backup'"
   ]
  },
  {
   "cell_type": "code",
   "execution_count": 10,
   "metadata": {},
   "outputs": [
    {
     "data": {
      "text/plain": [
       "(11,\n",
       " [PosixPath('/Volumes/fluffy/ContinuingPublications/BacklogApril2019/0.toProcessForUpload/Alumnus/alum_2016winter'),\n",
       "  PosixPath('/Volumes/fluffy/ContinuingPublications/BacklogApril2019/0.toProcessForUpload/Alumnus/alum_2017fall'),\n",
       "  PosixPath('/Volumes/fluffy/ContinuingPublications/BacklogApril2019/0.toProcessForUpload/Alumnus/alum_2017spring')])"
      ]
     },
     "execution_count": 10,
     "metadata": {},
     "output_type": "execute_result"
    }
   ],
   "source": [
    "dir_paths_list = [x for x in root_directory_path.iterdir() if x.is_dir() and x.name.endswith(stub_to_remove)]\n",
    "len(dir_paths_list), dir_paths_list[:3]"
   ]
  },
  {
   "cell_type": "code",
   "execution_count": 11,
   "metadata": {},
   "outputs": [],
   "source": [
    "for dir_path in dir_paths_list:\n",
    "    new_name = dir_path.name.replace(stub_to_remove, '')\n",
    "    dir_path.replace(root_directory_path.joinpath(new_name))"
   ]
  },
  {
   "cell_type": "code",
   "execution_count": 17,
   "metadata": {},
   "outputs": [
    {
     "data": {
      "text/plain": [
       "11"
      ]
     },
     "execution_count": 17,
     "metadata": {},
     "output_type": "execute_result"
    }
   ],
   "source": [
    "dir_paths_list = sorted([x for x in root_directory_path.iterdir() if x.is_dir()])\n",
    "len(dir_paths_list)"
   ]
  },
  {
   "cell_type": "code",
   "execution_count": 22,
   "metadata": {},
   "outputs": [],
   "source": [
    "for dir_path in dir_paths_list:\n",
    "    year = dir_path.name[:4]\n",
    "    season = dir_path.name[4:]\n",
    "    new_name = f'alumnus_VV-I_{year}-{season}'\n",
    "    new_path = dir_path.with_name(new_name)\n",
    "    dir_path.rename(new_path)"
   ]
  },
  {
   "cell_type": "code",
   "execution_count": null,
   "metadata": {},
   "outputs": [],
   "source": []
  }
 ],
 "metadata": {
  "kernelspec": {
   "display_name": "Python 3",
   "language": "python",
   "name": "python3"
  },
  "language_info": {
   "codemirror_mode": {
    "name": "ipython",
    "version": 3
   },
   "file_extension": ".py",
   "mimetype": "text/x-python",
   "name": "python",
   "nbconvert_exporter": "python",
   "pygments_lexer": "ipython3",
   "version": "3.7.3"
  },
  "toc": {
   "base_numbering": 1,
   "nav_menu": {},
   "number_sections": true,
   "sideBar": true,
   "skip_h1_title": false,
   "title_cell": "Table of Contents",
   "title_sidebar": "Contents",
   "toc_cell": false,
   "toc_position": {},
   "toc_section_display": true,
   "toc_window_display": false
  }
 },
 "nbformat": 4,
 "nbformat_minor": 2
}
