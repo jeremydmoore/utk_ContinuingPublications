{
 "cells": [
  {
   "cell_type": "code",
   "execution_count": 1,
   "metadata": {},
   "outputs": [],
   "source": [
    "from pathlib import Path\n",
    "from utk_ContinuingPublications_class import ContinuingPublications_Volume as CP_Volume"
   ]
  },
  {
   "cell_type": "code",
   "execution_count": 6,
   "metadata": {},
   "outputs": [],
   "source": [
    "test_directory_path = Path('data/phoenix_2017spring/')"
   ]
  },
  {
   "cell_type": "code",
   "execution_count": 7,
   "metadata": {},
   "outputs": [],
   "source": [
    "volume = CP_Volume(test_directory_path)"
   ]
  },
  {
   "cell_type": "code",
   "execution_count": 8,
   "metadata": {},
   "outputs": [
    {
     "data": {
      "text/plain": [
       "['__class__',\n",
       " '__delattr__',\n",
       " '__dict__',\n",
       " '__dir__',\n",
       " '__doc__',\n",
       " '__eq__',\n",
       " '__format__',\n",
       " '__ge__',\n",
       " '__getattribute__',\n",
       " '__gt__',\n",
       " '__hash__',\n",
       " '__init__',\n",
       " '__init_subclass__',\n",
       " '__le__',\n",
       " '__lt__',\n",
       " '__module__',\n",
       " '__ne__',\n",
       " '__new__',\n",
       " '__reduce__',\n",
       " '__reduce_ex__',\n",
       " '__repr__',\n",
       " '__setattr__',\n",
       " '__sizeof__',\n",
       " '__str__',\n",
       " '__subclasshook__',\n",
       " '__weakref__',\n",
       " 'backup_volume',\n",
       " 'create_islandora_ingest_directory',\n",
       " 'create_zip_file',\n",
       " 'directory_path',\n",
       " 'get_file_paths',\n",
       " 'remove_backup',\n",
       " 'rename_files_to_directory_name',\n",
       " 'undo_backup']"
      ]
     },
     "execution_count": 8,
     "metadata": {},
     "output_type": "execute_result"
    }
   ],
   "source": [
    "dir(volume)"
   ]
  },
  {
   "cell_type": "code",
   "execution_count": 9,
   "metadata": {},
   "outputs": [
    {
     "name": "stdout",
     "output_type": "stream",
     "text": [
      "Backup directory created at C:\\Users\\dlisla\\Documents\\GitHub\\utk_ContinuingPublications\\data\\phoenix_2017spring_backup\n",
      "Renaming 36 \".tif\"s in phoenix_2017spring . . .\n",
      " Renamed 36 \".tif\"s\n"
     ]
    }
   ],
   "source": [
    "volume.rename_files_to_directory_name('.tif')"
   ]
  },
  {
   "cell_type": "code",
   "execution_count": 10,
   "metadata": {},
   "outputs": [],
   "source": [
    "volume.undo_backup()"
   ]
  },
  {
   "cell_type": "code",
   "execution_count": 11,
   "metadata": {},
   "outputs": [
    {
     "name": "stdout",
     "output_type": "stream",
     "text": [
      "Backup directory created at C:\\Users\\dlisla\\Documents\\GitHub\\utk_ContinuingPublications\\data\\phoenix_2017spring_backup\n",
      "Renaming 36 \".tif\"s in phoenix_2017spring . . .\n",
      " Renamed 36 \".tif\"s\n"
     ]
    }
   ],
   "source": [
    "volume.rename_files_to_directory_name('.tif')"
   ]
  },
  {
   "cell_type": "code",
   "execution_count": 13,
   "metadata": {},
   "outputs": [
    {
     "name": "stdout",
     "output_type": "stream",
     "text": [
      "Processing 36 in phoenix_2017spring\n"
     ]
    },
    {
     "data": {
      "text/plain": [
       "WindowsPath('C:/Users/dlisla/Documents/GitHub/utk_ContinuingPublications/data/phoenix_2017spring_CreatedForIslandoraIngest_2019-03-08')"
      ]
     },
     "execution_count": 13,
     "metadata": {},
     "output_type": "execute_result"
    }
   ],
   "source": [
    "volume.create_islandora_ingest_directory()"
   ]
  },
  {
   "cell_type": "code",
   "execution_count": 14,
   "metadata": {},
   "outputs": [],
   "source": [
    "import shutil"
   ]
  },
  {
   "cell_type": "code",
   "execution_count": 22,
   "metadata": {},
   "outputs": [
    {
     "data": {
      "text/plain": [
       "'C:\\\\Users\\\\dlisla\\\\Documents\\\\GitHub\\\\utk_ContinuingPublications\\\\data\\\\phoenix_2017spring.zip'"
      ]
     },
     "execution_count": 22,
     "metadata": {},
     "output_type": "execute_result"
    }
   ],
   "source": [
    "shutil.make_archive('data/phoenix_2017spring', 'zip', root_dir='data/phoenix_2017spring_CreatedForIslandoraIngest_2019-03-08/')"
   ]
  },
  {
   "cell_type": "code",
   "execution_count": 38,
   "metadata": {},
   "outputs": [],
   "source": [
    "filename = 'phoenix_2015fall'"
   ]
  },
  {
   "cell_type": "code",
   "execution_count": 39,
   "metadata": {},
   "outputs": [],
   "source": [
    "title, year_season = filename.split('_')\n",
    "season = year_season[4:]\n",
    "year = year_season[:4]"
   ]
  },
  {
   "cell_type": "code",
   "execution_count": 40,
   "metadata": {},
   "outputs": [
    {
     "data": {
      "text/plain": [
       "'Phoenix, fall 2015'"
      ]
     },
     "execution_count": 40,
     "metadata": {},
     "output_type": "execute_result"
    }
   ],
   "source": [
    "title = f'{title.capitalize()}, {season} {year}'\n",
    "title"
   ]
  },
  {
   "cell_type": "code",
   "execution_count": 41,
   "metadata": {},
   "outputs": [
    {
     "data": {
      "text/plain": [
       "'2015'"
      ]
     },
     "execution_count": 41,
     "metadata": {},
     "output_type": "execute_result"
    }
   ],
   "source": [
    "year"
   ]
  },
  {
   "cell_type": "code",
   "execution_count": 42,
   "metadata": {},
   "outputs": [
    {
     "data": {
      "text/plain": [
       "'fall'"
      ]
     },
     "execution_count": 42,
     "metadata": {},
     "output_type": "execute_result"
    }
   ],
   "source": [
    "season"
   ]
  },
  {
   "cell_type": "code",
   "execution_count": 37,
   "metadata": {},
   "outputs": [
    {
     "data": {
      "text/plain": [
       "'2015_23'"
      ]
     },
     "execution_count": 37,
     "metadata": {},
     "output_type": "execute_result"
    }
   ],
   "source": [
    "def machine_readable_pub_date(year, season):\n",
    "    if season == 'spring':\n",
    "        machine_code = 21\n",
    "    elif season == 'summer':\n",
    "        machine_code = 22\n",
    "    elif season == 'fall':\n",
    "        machine_code = 23\n",
    "    elif season == 'winter':\n",
    "        machine_code = 24\n",
    "    else:\n",
    "        print(f'{season} does NOT match 1 of the 4, what calendar are you using?')\n",
    "    return f'{year}_{machine_code}'\n",
    "\n",
    "machine_pub_date = machine_readable_pub_date(year, season)\n",
    "machine_pub_date"
   ]
  },
  {
   "cell_type": "code",
   "execution_count": null,
   "metadata": {},
   "outputs": [],
   "source": []
  }
 ],
 "metadata": {
  "kernelspec": {
   "display_name": "Python 3",
   "language": "python",
   "name": "python3"
  },
  "language_info": {
   "codemirror_mode": {
    "name": "ipython",
    "version": 3
   },
   "file_extension": ".py",
   "mimetype": "text/x-python",
   "name": "python",
   "nbconvert_exporter": "python",
   "pygments_lexer": "ipython3",
   "version": "3.6.8"
  }
 },
 "nbformat": 4,
 "nbformat_minor": 2
}
