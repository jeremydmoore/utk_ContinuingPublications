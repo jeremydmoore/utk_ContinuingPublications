{
 "cells": [
  {
   "cell_type": "markdown",
   "metadata": {},
   "source": [
    "# Create YAML file for Continuing Publications ingest\n",
    "\n",
    "I wanted an easy way to create all of the info I needed in a Google Doc or CSV for creating the YAML files necessary for the automated ingest"
   ]
  },
  {
   "cell_type": "markdown",
   "metadata": {},
   "source": [
    "## Playbills YAML files\n",
    "\n",
    "https://github.com/utkdigitalinitiatives/Automated-Ingest-for-Continuing-Publications/blob/master/collection_templates/collections__playbills.yml\n",
    "\n",
    "1. adminDB: \"0012_003049_XXXXXX\" # Replace \"X\" with appropriate adminDB values.\n",
    "1. title: \"Title\" # Replace with title in title case.\n",
    "1. date_Issued: \"Month Day, YYYY\" # Replace with date values (e.g. September 21, 2019)\n",
    "1. date_Issued_edtf: \"YYYY-MM-DD\" # Replace letters with a four-digit year and a two-digit number for month and day (e.g. 2019-09-21)"
   ]
  },
  {
   "cell_type": "code",
   "execution_count": 1,
   "metadata": {},
   "outputs": [],
   "source": [
    "from pathlib import Path\n",
    "import pandas as pd"
   ]
  },
  {
   "cell_type": "code",
   "execution_count": null,
   "metadata": {},
   "outputs": [],
   "source": [
    "data_directory = "
   ]
  },
  {
   "cell_type": "code",
   "execution_count": 20,
   "metadata": {},
   "outputs": [
    {
     "data": {
      "text/html": [
       "<div>\n",
       "<style scoped>\n",
       "    .dataframe tbody tr th:only-of-type {\n",
       "        vertical-align: middle;\n",
       "    }\n",
       "\n",
       "    .dataframe tbody tr th {\n",
       "        vertical-align: top;\n",
       "    }\n",
       "\n",
       "    .dataframe thead th {\n",
       "        text-align: right;\n",
       "    }\n",
       "</style>\n",
       "<table border=\"1\" class=\"dataframe\">\n",
       "  <thead>\n",
       "    <tr style=\"text-align: right;\">\n",
       "      <th></th>\n",
       "      <th>directory_name</th>\n",
       "      <th>volume</th>\n",
       "      <th>number</th>\n",
       "      <th>date_Issued</th>\n",
       "      <th>date_Issued_edtf</th>\n",
       "    </tr>\n",
       "  </thead>\n",
       "  <tbody>\n",
       "    <tr>\n",
       "      <th>0</th>\n",
       "      <td>torch_vol53-no2_2014fall_ForIslandoraIngest_Cr...</td>\n",
       "      <td>53</td>\n",
       "      <td>2</td>\n",
       "      <td>Fall 2014</td>\n",
       "      <td>2014-23</td>\n",
       "    </tr>\n",
       "    <tr>\n",
       "      <th>1</th>\n",
       "      <td>torch_vol54-no1_2015spring_ForIslandoraIngest_...</td>\n",
       "      <td>54</td>\n",
       "      <td>1</td>\n",
       "      <td>Spring 2015</td>\n",
       "      <td>2015-21</td>\n",
       "    </tr>\n",
       "    <tr>\n",
       "      <th>2</th>\n",
       "      <td>torch_vol54-no2_2015fall_ForIslandoraIngest_Cr...</td>\n",
       "      <td>54</td>\n",
       "      <td>2</td>\n",
       "      <td>Fall 2015</td>\n",
       "      <td>2015-23</td>\n",
       "    </tr>\n",
       "    <tr>\n",
       "      <th>3</th>\n",
       "      <td>torch_vol55-no1_2016spring_ForIslandoraIngest_...</td>\n",
       "      <td>55</td>\n",
       "      <td>1</td>\n",
       "      <td>Spring 2016</td>\n",
       "      <td>2016-21</td>\n",
       "    </tr>\n",
       "    <tr>\n",
       "      <th>4</th>\n",
       "      <td>torch_vol55-no2_2016fall_ForIslandoraIngest_Cr...</td>\n",
       "      <td>55</td>\n",
       "      <td>2</td>\n",
       "      <td>Fall 2016</td>\n",
       "      <td>2016-23</td>\n",
       "    </tr>\n",
       "    <tr>\n",
       "      <th>5</th>\n",
       "      <td>torch_vol56-no1_2017spring_ForIslandoraIngest_...</td>\n",
       "      <td>56</td>\n",
       "      <td>1</td>\n",
       "      <td>Spring 2017</td>\n",
       "      <td>2017-21</td>\n",
       "    </tr>\n",
       "    <tr>\n",
       "      <th>6</th>\n",
       "      <td>torch_vol56-no2_2017fall_ForIslandoraIngest_Cr...</td>\n",
       "      <td>56</td>\n",
       "      <td>2</td>\n",
       "      <td>Fall 2017</td>\n",
       "      <td>2017-23</td>\n",
       "    </tr>\n",
       "  </tbody>\n",
       "</table>\n",
       "</div>"
      ],
      "text/plain": [
       "                                      directory_name  volume  number  \\\n",
       "0  torch_vol53-no2_2014fall_ForIslandoraIngest_Cr...      53       2   \n",
       "1  torch_vol54-no1_2015spring_ForIslandoraIngest_...      54       1   \n",
       "2  torch_vol54-no2_2015fall_ForIslandoraIngest_Cr...      54       2   \n",
       "3  torch_vol55-no1_2016spring_ForIslandoraIngest_...      55       1   \n",
       "4  torch_vol55-no2_2016fall_ForIslandoraIngest_Cr...      55       2   \n",
       "5  torch_vol56-no1_2017spring_ForIslandoraIngest_...      56       1   \n",
       "6  torch_vol56-no2_2017fall_ForIslandoraIngest_Cr...      56       2   \n",
       "\n",
       "   date_Issued date_Issued_edtf  \n",
       "0    Fall 2014          2014-23  \n",
       "1  Spring 2015          2015-21  \n",
       "2    Fall 2015          2015-23  \n",
       "3  Spring 2016          2016-21  \n",
       "4    Fall 2016          2016-23  \n",
       "5  Spring 2017          2017-21  \n",
       "6    Fall 2017          2017-23  "
      ]
     },
     "execution_count": 20,
     "metadata": {},
     "output_type": "execute_result"
    }
   ],
   "source": [
    "# created metadata in Google Sheets, then copied it to my clipboard\n",
    "torchbearer_dataframe = pd.read_clipboard()\n",
    "torchbearer_dataframe"
   ]
  },
  {
   "cell_type": "code",
   "execution_count": 21,
   "metadata": {},
   "outputs": [
    {
     "name": "stdout",
     "output_type": "stream",
     "text": [
      "53\n",
      "54\n",
      "54\n",
      "55\n",
      "55\n",
      "56\n",
      "56\n"
     ]
    }
   ],
   "source": [
    "# use df.iterrows() to access each row of data\n",
    "# df.iterrows() returns a tuple of the index & the row's data\n",
    "for index, row in torchbearer_dataframe.iterrows():\n",
    "    volume = row['volume']\n",
    "    print(volume)"
   ]
  },
  {
   "cell_type": "code",
   "execution_count": 26,
   "metadata": {},
   "outputs": [
    {
     "name": "stdout",
     "output_type": "stream",
     "text": [
      "torch_vol53-no2_2014fall_ForIslandoraIngest_Created_2019-04-15 Fall 2014\n",
      "torch_vol54-no1_2015spring_ForIslandoraIngest_Created_2019-04-15 Spring 2015\n",
      "torch_vol54-no2_2015fall_ForIslandoraIngest_Created_2019-04-15 Fall 2015\n",
      "torch_vol55-no1_2016spring_ForIslandoraIngest_Created_2019-04-15 Spring 2016\n",
      "torch_vol55-no2_2016fall_ForIslandoraIngest_Created_2019-04-15 Fall 2016\n",
      "torch_vol56-no1_2017spring_ForIslandoraIngest_Created_2019-04-15 Spring 2017\n",
      "torch_vol56-no2_2017fall_ForIslandoraIngest_Created_2019-04-15 Fall 2017\n"
     ]
    }
   ],
   "source": [
    "# loop through rows to set metadata values\n",
    "for index, row in torchbearer_dataframe.iterrows():\n",
    "    directory_name = row['directory_name']\n",
    "    volume, number = row['volume'], row['number']\n",
    "    date_issued, date_issued_edtf = row['date_Issued'], row['date_Issued_edtf']\n",
    "    print(directory_name, date_issued)"
   ]
  },
  {
   "cell_type": "code",
   "execution_count": 27,
   "metadata": {},
   "outputs": [],
   "source": [
    "data_path = Path('./data')\n",
    "data_path.mkdir(exist_ok=True)"
   ]
  },
  {
   "cell_type": "code",
   "execution_count": 32,
   "metadata": {},
   "outputs": [],
   "source": [
    "# loop through rows to set metadata values\n",
    "for index, row in torchbearer_dataframe.iterrows():\n",
    "    \n",
    "    # set metadata values\n",
    "    directory_name = row['directory_name']\n",
    "    volume = f'''volume: \"{row['volume']}\"'''\n",
    "    number = f'''number: \"{row['number']}\"'''\n",
    "    date_issued = f'''date_Issued: \"{row['date_Issued']}\"'''\n",
    "    date_issued_edtf = f'''date_Issued_edtf: \"{row['date_Issued_edtf']}\"'''\n",
    "    \n",
    "    # create metadata list\n",
    "    metadata_list = [volume, number, date_issued, date_issued_edtf]\n",
    "    \n",
    "    # *.yml file path\n",
    "    yml_path = data_path.joinpath(f'{directory_name}.yml')\n",
    "    \n",
    "    # create empty *.yml file\n",
    "    !touch {yml_path}\n",
    "    \n",
    "    # export metadata to *.yml file\n",
    "    for metadata in metadata_list:\n",
    "        !echo {metadata} >> {yml_path}"
   ]
  },
  {
   "cell_type": "code",
   "execution_count": 35,
   "metadata": {},
   "outputs": [
    {
     "name": "stdout",
     "output_type": "stream",
     "text": [
      "torch_vol56-no2_2017fall_ForIslandoraIngest_Created_2019-04-15.yml\n",
      "\n",
      "volume: 56\r\n",
      "number: 2\r\n",
      "date_Issued: Fall 2017\r\n",
      "date_Issued_edtf: 2017-23\r\n"
     ]
    }
   ],
   "source": [
    "print(yml_path.name)\n",
    "print('')\n",
    "!cat {yml_path}"
   ]
  },
  {
   "cell_type": "code",
   "execution_count": null,
   "metadata": {},
   "outputs": [],
   "source": []
  }
 ],
 "metadata": {
  "kernelspec": {
   "display_name": "Python 3",
   "language": "python",
   "name": "python3"
  },
  "language_info": {
   "codemirror_mode": {
    "name": "ipython",
    "version": 3
   },
   "file_extension": ".py",
   "mimetype": "text/x-python",
   "name": "python",
   "nbconvert_exporter": "python",
   "pygments_lexer": "ipython3",
   "version": "3.7.3"
  },
  "toc": {
   "base_numbering": 1,
   "nav_menu": {},
   "number_sections": true,
   "sideBar": true,
   "skip_h1_title": false,
   "title_cell": "Table of Contents",
   "title_sidebar": "Contents",
   "toc_cell": false,
   "toc_position": {},
   "toc_section_display": true,
   "toc_window_display": false
  }
 },
 "nbformat": 4,
 "nbformat_minor": 2
}
