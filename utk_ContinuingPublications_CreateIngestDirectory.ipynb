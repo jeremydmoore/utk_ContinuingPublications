{
 "cells": [
  {
   "cell_type": "markdown",
   "metadata": {},
   "source": [
    "# Process a directory of TIFFs for batch upload\n",
    "\n",
    "This will process a book of TIFF files into a directory as-needed for Islandora ingest (Continuing Publications meeting 2019-02-19)\n",
    "\n",
    "Structure for directory is:\n",
    "\n",
    "/book/\n",
    "\n",
    "     1/\n",
    "       page 1.tif\n",
    "     2/\n",
    "       page 2.tif\n",
    "     n/\n",
    "       page n.tif\n",
    "       \n",
    "Keep \"book\" directory and have the individual pages in sub-directories in a final 'forIngest'.zip file"
   ]
  },
  {
   "cell_type": "code",
   "execution_count": 1,
   "metadata": {
    "code_folding": []
   },
   "outputs": [
    {
     "data": {
      "text/html": [
       "<style>.container { width:95% !important; }</style>"
      ],
      "text/plain": [
       "<IPython.core.display.HTML object>"
      ]
     },
     "metadata": {},
     "output_type": "display_data"
    }
   ],
   "source": [
    "# importing & options\n",
    "import datetime\n",
    "import logging\n",
    "import shutil\n",
    "import sys\n",
    "from pathlib import Path\n",
    "\n",
    "import pandas as pd\n",
    "from ipywidgets import IntProgress, Label, VBox\n",
    "from IPython.display import display\n",
    "\n",
    "# set Logging Configuration with current level at INFO\n",
    "logging.basicConfig(format='%(levelname)s:%(message)s', level=logging.INFO)\n",
    "\n",
    "# set display at 95% width\n",
    "from IPython.core.display import display, HTML\n",
    "display(HTML('<style>.container { width:95% !important; }</style>'))"
   ]
  },
  {
   "cell_type": "code",
   "execution_count": 4,
   "metadata": {
    "code_folding": [
     0
    ]
   },
   "outputs": [],
   "source": [
    "def create_subdirectories_for_ingest(book_directory, file_extension='.tif'):\n",
    "    \n",
    "    book_directory_path = Path(book_directory)\n",
    "    logging.info(f'Processing book at {book_directory_path}')\n",
    "    \n",
    "    # get sorted list of all image paths with file_extension\n",
    "    image_paths_list = sorted([x for x in book_directory_path.iterdir() if str(x).endswith(file_extension)])\n",
    "    logging.info(f'There are {len(image_paths_list)} \"{file_extension}\"s in \"{book_directory_path}\"')\n",
    "    \n",
    "    # set ingest stub to add to directory name\n",
    "    ingest_stub = 'CreatedForIslandoraIngest'\n",
    "    # get today's date in YYY-MM-DD format\n",
    "    todays_date = datetime.datetime.now().strftime('%Y-%m-%d')\n",
    "    # add today's date to ingest stub\n",
    "    ingest_stub = f'{ingest_stub}_{todays_date}'\n",
    "    \n",
    "    # set ingest directory name\n",
    "    ingest_directory_name = f'{book_directory_path.name}_{ingest_stub}'\n",
    "    logging.info(f'ingest directory name: {ingest_directory_name}')\n",
    "    \n",
    "    # create ingest directory\n",
    "    ingest_directory_path = book_directory_path.parents[0].joinpath(ingest_directory_name)\n",
    "    try:\n",
    "        ingest_directory_path.mkdir()  # existing directory will throw error\n",
    "        if ingest_directory_path.is_dir():\n",
    "            logging.info(f'ingest directory path: {ingest_directory_path}')\n",
    "    except FileExistsError:  # directory already exists\n",
    "        logging.error(f'********** ingest directory already exists at {ingest_directory_path} **********')\n",
    "\n",
    "    logging.info(f'To Process: {len(image_paths_list)} images in {book_directory_path}')\n",
    "    \n",
    "    # progress bar\n",
    "    progress_label = Label('Image Being Processed')\n",
    "    progress_bar = IntProgress(min=0, max=len(image_paths_list))\n",
    "    progress_widget = VBox([progress_label, progress_bar])\n",
    "    display(progress_widget)\n",
    "    \n",
    "    # create a directory for an image then copy image into it\n",
    "    for index, image_path in enumerate(image_paths_list, start=1):\n",
    "        \n",
    "        progress_label.value = image_path.name\n",
    "        \n",
    "        # create sub-directory for image\n",
    "        image_directory_path = ingest_directory_path.joinpath(str(index))\n",
    "        try:\n",
    "            image_directory_path.mkdir()  # existing directory will throw error\n",
    "        except FileExistsError:\n",
    "            logging.error(f'********** ingest directory already exists at {image_directory_path} **********')\n",
    "        \n",
    "        # set copy image path & copy image\n",
    "        copy_image_path = image_directory_path.joinpath(image_path.name)\n",
    "        shutil.copy(image_path, copy_image_path)\n",
    "        \n",
    "        # set new image name to \"page {index}{file_extension}\"\n",
    "        new_image_name = f'page {str(index)}{file_extension}'\n",
    "        new_image_path = copy_image_path.parents[0].joinpath(new_image_name)\n",
    "        \n",
    "        # rename copied image path to new name\n",
    "        copy_image_path.rename(new_image_path)\n",
    "        \n",
    "        progress_bar.value = index\n",
    "    \n",
    "    glob_string = f'**/*{file_extension}'\n",
    "    images_processed_paths_list = list(ingest_directory_path.glob(glob_string))\n",
    "    logging.info(f'Processed images: {len(images_processed_paths_list)} images in {ingest_directory_path}')"
   ]
  },
  {
   "cell_type": "code",
   "execution_count": 14,
   "metadata": {},
   "outputs": [],
   "source": [
    "parent_directory = r'Z:\\ContinuingPublications\\Alumnus\\delivery'\n",
    "book_name_list = ['alum_2014fall', 'alum_2014summer', 'alum_2015spring']"
   ]
  },
  {
   "cell_type": "code",
   "execution_count": 15,
   "metadata": {},
   "outputs": [
    {
     "name": "stdout",
     "output_type": "stream",
     "text": [
      "Z:\\ContinuingPublications\\Alumnus\\delivery\\alum_2014fall\n",
      "Z:\\ContinuingPublications\\Alumnus\\delivery\\alum_2014summer\n",
      "Z:\\ContinuingPublications\\Alumnus\\delivery\\alum_2015spring\n"
     ]
    }
   ],
   "source": [
    "for directory_name in directory_name_list:\n",
    "    book_directory = Path(parent_directory).joinpath(directory_name)\n",
    "    print(book_directory)"
   ]
  },
  {
   "cell_type": "code",
   "execution_count": 16,
   "metadata": {
    "scrolled": false
   },
   "outputs": [
    {
     "name": "stderr",
     "output_type": "stream",
     "text": [
      "INFO:Processing book at Z:\\ContinuingPublications\\Alumnus\\delivery\\alum_2014fall\n",
      "INFO:There are 52 \".tif\"s in \"Z:\\ContinuingPublications\\Alumnus\\delivery\\alum_2014fall\"\n",
      "INFO:ingest directory name: alum_2014fall_CreatedForIslandoraIngest_2019-02-19\n",
      "INFO:ingest directory path: Z:\\ContinuingPublications\\Alumnus\\delivery\\alum_2014fall_CreatedForIslandoraIngest_2019-02-19\n",
      "INFO:To Process: 52 images in Z:\\ContinuingPublications\\Alumnus\\delivery\\alum_2014fall\n"
     ]
    },
    {
     "data": {
      "application/vnd.jupyter.widget-view+json": {
       "model_id": "bf572e1ef2b844d7957e6a639fff6fa5",
       "version_major": 2,
       "version_minor": 0
      },
      "text/plain": [
       "VBox(children=(Label(value='Image Being Processed'), IntProgress(value=0, max=52)))"
      ]
     },
     "metadata": {},
     "output_type": "display_data"
    },
    {
     "name": "stderr",
     "output_type": "stream",
     "text": [
      "INFO:Processed images: 52 images in Z:\\ContinuingPublications\\Alumnus\\delivery\\alum_2014fall_CreatedForIslandoraIngest_2019-02-19\n",
      "INFO:Processing book at Z:\\ContinuingPublications\\Alumnus\\delivery\\alum_2014summer\n",
      "INFO:There are 52 \".tif\"s in \"Z:\\ContinuingPublications\\Alumnus\\delivery\\alum_2014summer\"\n",
      "INFO:ingest directory name: alum_2014summer_CreatedForIslandoraIngest_2019-02-19\n",
      "INFO:ingest directory path: Z:\\ContinuingPublications\\Alumnus\\delivery\\alum_2014summer_CreatedForIslandoraIngest_2019-02-19\n",
      "INFO:To Process: 52 images in Z:\\ContinuingPublications\\Alumnus\\delivery\\alum_2014summer\n"
     ]
    },
    {
     "data": {
      "application/vnd.jupyter.widget-view+json": {
       "model_id": "f71d0fdf7035401cb98bea36e0ca61b9",
       "version_major": 2,
       "version_minor": 0
      },
      "text/plain": [
       "VBox(children=(Label(value='Image Being Processed'), IntProgress(value=0, max=52)))"
      ]
     },
     "metadata": {},
     "output_type": "display_data"
    },
    {
     "name": "stderr",
     "output_type": "stream",
     "text": [
      "INFO:Processed images: 52 images in Z:\\ContinuingPublications\\Alumnus\\delivery\\alum_2014summer_CreatedForIslandoraIngest_2019-02-19\n",
      "INFO:Processing book at Z:\\ContinuingPublications\\Alumnus\\delivery\\alum_2015spring\n",
      "INFO:There are 52 \".tif\"s in \"Z:\\ContinuingPublications\\Alumnus\\delivery\\alum_2015spring\"\n",
      "INFO:ingest directory name: alum_2015spring_CreatedForIslandoraIngest_2019-02-19\n",
      "INFO:ingest directory path: Z:\\ContinuingPublications\\Alumnus\\delivery\\alum_2015spring_CreatedForIslandoraIngest_2019-02-19\n",
      "INFO:To Process: 52 images in Z:\\ContinuingPublications\\Alumnus\\delivery\\alum_2015spring\n"
     ]
    },
    {
     "data": {
      "application/vnd.jupyter.widget-view+json": {
       "model_id": "048fbba2b5ff440bb1f20ee77a3f2315",
       "version_major": 2,
       "version_minor": 0
      },
      "text/plain": [
       "VBox(children=(Label(value='Image Being Processed'), IntProgress(value=0, max=52)))"
      ]
     },
     "metadata": {},
     "output_type": "display_data"
    },
    {
     "name": "stderr",
     "output_type": "stream",
     "text": [
      "INFO:Processed images: 52 images in Z:\\ContinuingPublications\\Alumnus\\delivery\\alum_2015spring_CreatedForIslandoraIngest_2019-02-19\n"
     ]
    }
   ],
   "source": [
    "for book_name in book_name_list:\n",
    "    book_directory = Path(parent_directory).joinpath(book_name)\n",
    "    \n",
    "    create_subdirectories_for_ingest(book_directory)\n"
   ]
  },
  {
   "cell_type": "code",
   "execution_count": 42,
   "metadata": {},
   "outputs": [],
   "source": [
    "root = r'Z:\\ContinuingPublications\\Phoenix\\work\\graphics'\n",
    "root_path = Path(root)\n",
    "items_list = list(root_path.iterdir())"
   ]
  },
  {
   "cell_type": "code",
   "execution_count": 51,
   "metadata": {},
   "outputs": [
    {
     "name": "stdout",
     "output_type": "stream",
     "text": [
      "['Covers', 'Covers_1999anniversaryissue']\n"
     ]
    }
   ],
   "source": [
    "# get directory list\n",
    "dir_list = [x for x in items_list if x.is_dir()]\n",
    "dir_names = [x.name for x in dir_list]\n",
    "print(dir_names)\n",
    "\n",
    "# copy dir list to clipboard for Google Sheets\n",
    "df = pd.DataFrame(dir_names)  # create dataframe from list\n",
    "df.to_clipboard(index=False, header=False, excel=True, sep='\\t')  # save to clipboard for Excel/Google Sheets"
   ]
  },
  {
   "cell_type": "code",
   "execution_count": 55,
   "metadata": {},
   "outputs": [
    {
     "name": "stdout",
     "output_type": "stream",
     "text": [
      "Z:\\ContinuingPublications\\Phoenix\\work\\graphics\\blklogotrans.tif\n",
      "Z:\\ContinuingPublications\\Phoenix\\work\\graphics\\blklogotrans_withbackground.tif\n",
      "Z:\\ContinuingPublications\\Phoenix\\work\\graphics\\colorlogotrans.tif\n",
      "Z:\\ContinuingPublications\\Phoenix\\work\\graphics\\comingsoon.jpg\n",
      "Z:\\ContinuingPublications\\Phoenix\\work\\graphics\\comingsoon.psd\n",
      "Z:\\ContinuingPublications\\Phoenix\\work\\graphics\\contact-us.jpg\n",
      "Z:\\ContinuingPublications\\Phoenix\\work\\graphics\\contact-us.psd\n",
      "Z:\\ContinuingPublications\\Phoenix\\work\\graphics\\contact-us_capitalized.jpg\n",
      "Z:\\ContinuingPublications\\Phoenix\\work\\graphics\\contact-us_capitalized.psd\n",
      "Z:\\ContinuingPublications\\Phoenix\\work\\graphics\\Copy of phoenixbanner.gif\n",
      "Z:\\ContinuingPublications\\Phoenix\\work\\graphics\\Phoenix banner.jpg\n",
      "Z:\\ContinuingPublications\\Phoenix\\work\\graphics\\Phoenix homepage image.gif\n",
      "Z:\\ContinuingPublications\\Phoenix\\work\\graphics\\Phoenix homepage image.jpg\n",
      "Z:\\ContinuingPublications\\Phoenix\\work\\graphics\\phoenixbanner.gif\n",
      "Z:\\ContinuingPublications\\Phoenix\\work\\graphics\\Phoenixfolders.JPG\n",
      "Z:\\ContinuingPublications\\Phoenix\\work\\graphics\\Phoenix_blklogotrans_withbackground.jpg\n"
     ]
    }
   ],
   "source": [
    "# get list of files (non-directory)\n",
    "file_list = [x for x in items_list if x.is_file()]\n",
    "for file in file_list:\n",
    "    file_path = Path(file)\n",
    "    print(file_path)\n",
    "\n",
    "# copy file list to clipboard for Google Sheets\n",
    "df = pd.DataFrame(file_list)  # create dataframe from list\n",
    "df.to_clipboard(index=False, header=False, excel=True, sep='\\t')  # save to clipboard for Excel/Google Sheets"
   ]
  },
  {
   "cell_type": "code",
   "execution_count": 44,
   "metadata": {
    "scrolled": true
   },
   "outputs": [
    {
     "name": "stdout",
     "output_type": "stream",
     "text": [
      "blklogotrans.tif\n",
      "blklogotrans_withbackground.tif\n",
      "colorlogotrans.tif\n",
      "comingsoon.jpg\n",
      "comingsoon.psd\n",
      "contact-us.jpg\n",
      "contact-us.psd\n",
      "contact-us_capitalized.jpg\n",
      "contact-us_capitalized.psd\n",
      "Copy of phoenixbanner.gif\n",
      "Covers\n",
      "Covers_1999anniversaryissue\n",
      "Phoenix banner.jpg\n",
      "Phoenix homepage image.gif\n",
      "Phoenix homepage image.jpg\n",
      "phoenixbanner.gif\n",
      "Phoenixfolders.JPG\n",
      "Phoenix_blklogotrans_withbackground.jpg\n"
     ]
    }
   ],
   "source": [
    "for item in items_list:\n",
    "    item_path = Path(item)\n",
    "    print(item_path.name)"
   ]
  },
  {
   "cell_type": "code",
   "execution_count": 36,
   "metadata": {},
   "outputs": [],
   "source": [
    "# copy list to clipboard for Google Sheets\n",
    "df = pd.DataFrame(items_list)  # create dataframe from list\n",
    "df.to_clipboard(index=False, header=False, excel=True, sep='\\t')  # save to clipboard for Excel/Google Sheets"
   ]
  },
  {
   "cell_type": "code",
   "execution_count": 37,
   "metadata": {
    "scrolled": true
   },
   "outputs": [
    {
     "name": "stdout",
     "output_type": "stream",
     "text": [
      "blklogotrans.tif\n",
      "blklogotrans_withbackground.tif\n",
      "colorlogotrans.tif\n",
      "comingsoon.jpg\n",
      "comingsoon.psd\n",
      "contact-us.jpg\n",
      "contact-us.psd\n",
      "contact-us_capitalized.jpg\n",
      "contact-us_capitalized.psd\n",
      "Copy of phoenixbanner.gif\n",
      "Covers\n",
      "Covers_1999anniversaryissue\n",
      "Phoenix banner.jpg\n",
      "Phoenix homepage image.gif\n",
      "Phoenix homepage image.jpg\n",
      "phoenixbanner.gif\n",
      "Phoenixfolders.JPG\n",
      "Phoenix_blklogotrans_withbackground.jpg\n"
     ]
    }
   ],
   "source": [
    "for item in list(root_path.iterdir()):\n",
    "    print(item.name)"
   ]
  },
  {
   "cell_type": "code",
   "execution_count": null,
   "metadata": {},
   "outputs": [],
   "source": []
  }
 ],
 "metadata": {
  "kernelspec": {
   "display_name": "Python 3",
   "language": "python",
   "name": "python3"
  },
  "language_info": {
   "codemirror_mode": {
    "name": "ipython",
    "version": 3
   },
   "file_extension": ".py",
   "mimetype": "text/x-python",
   "name": "python",
   "nbconvert_exporter": "python",
   "pygments_lexer": "ipython3",
   "version": "3.6.8"
  }
 },
 "nbformat": 4,
 "nbformat_minor": 2
}
