{
 "cells": [
  {
   "cell_type": "markdown",
   "metadata": {},
   "source": [
    "# Process a directory of TIFFs for batch upload\n",
    "\n",
    "This will process a book of TIFF files into a directory as-needed for Islandora ingest (Continuing Publications meeting 2019-02-19)\n",
    "\n",
    "Structure for directory is:\n",
    "\n",
    "/book/\n",
    "\n",
    "     1/\n",
    "       page 1.tif\n",
    "     2/\n",
    "       page 2.tif\n",
    "     n/\n",
    "       page n.tif\n",
    "       \n",
    "Keep \"book\" directory and have the individual pages in sub-directories in a final 'forIngest'.zip file"
   ]
  },
  {
   "cell_type": "code",
   "execution_count": 23,
   "metadata": {
    "code_folding": [
     0
    ]
   },
   "outputs": [
    {
     "data": {
      "text/html": [
       "<style>.container { width:95% !important; }</style>"
      ],
      "text/plain": [
       "<IPython.core.display.HTML object>"
      ]
     },
     "metadata": {},
     "output_type": "display_data"
    }
   ],
   "source": [
    "# importing & options\n",
    "import datetime\n",
    "import logging\n",
    "import shutil\n",
    "import sys\n",
    "from pathlib import Path\n",
    "\n",
    "import pandas as pd\n",
    "from ipywidgets import IntProgress, Label, VBox\n",
    "from IPython.display import display\n",
    "\n",
    "# set Logging Configuration with current level at INFO\n",
    "logging.basicConfig(format='%(levelname)s:%(message)s', level=logging.INFO)\n",
    "\n",
    "# set display at 95% width\n",
    "from IPython.core.display import display, HTML\n",
    "display(HTML('<style>.container { width:95% !important; }</style>'))"
   ]
  },
  {
   "cell_type": "code",
   "execution_count": 4,
   "metadata": {
    "code_folding": [
     0
    ]
   },
   "outputs": [],
   "source": [
    "def create_subdirectories_for_ingest(book_directory, file_extension='.tif'):\n",
    "    \n",
    "    book_directory_path = Path(book_directory)\n",
    "    logging.info(f'Processing book at {book_directory_path}')\n",
    "    \n",
    "    # get sorted list of all image paths with file_extension\n",
    "    image_paths_list = sorted([x for x in book_directory_path.iterdir() if str(x).endswith(file_extension)])\n",
    "    logging.info(f'There are {len(image_paths_list)} \"{file_extension}\"s in \"{book_directory_path}\"')\n",
    "    \n",
    "    # set ingest stub to add to directory name\n",
    "    ingest_stub = 'CreatedForIslandoraIngest'\n",
    "    # get today's date in YYY-MM-DD format\n",
    "    todays_date = datetime.datetime.now().strftime('%Y-%m-%d')\n",
    "    # add today's date to ingest stub\n",
    "    ingest_stub = f'{ingest_stub}_{todays_date}'\n",
    "    \n",
    "    # set ingest directory name\n",
    "    ingest_directory_name = f'{book_directory_path.name}_{ingest_stub}'\n",
    "    logging.info(f'ingest directory name: {ingest_directory_name}')\n",
    "    \n",
    "    # create ingest directory\n",
    "    ingest_directory_path = book_directory_path.parents[0].joinpath(ingest_directory_name)\n",
    "    try:\n",
    "        ingest_directory_path.mkdir()  # existing directory will throw error\n",
    "        if ingest_directory_path.is_dir():\n",
    "            logging.info(f'ingest directory path: {ingest_directory_path}')\n",
    "    except FileExistsError:  # directory already exists\n",
    "        logging.error(f'********** ingest directory already exists at {ingest_directory_path} **********')\n",
    "\n",
    "    logging.info(f'To Process: {len(image_paths_list)} images in {book_directory_path}')\n",
    "    \n",
    "    # progress bar\n",
    "    progress_label = Label('Image Being Processed')\n",
    "    progress_bar = IntProgress(min=0, max=len(image_paths_list))\n",
    "    progress_widget = VBox([progress_label, progress_bar])\n",
    "    display(progress_widget)\n",
    "    \n",
    "    # create a directory for an image then copy image into it\n",
    "    for index, image_path in enumerate(image_paths_list, start=1):\n",
    "        \n",
    "        progress_label.value = image_path.name\n",
    "        \n",
    "        # create sub-directory for image\n",
    "        image_directory_path = ingest_directory_path.joinpath(str(index))\n",
    "        try:\n",
    "            image_directory_path.mkdir()  # existing directory will throw error\n",
    "        except FileExistsError:\n",
    "            logging.error(f'********** ingest directory already exists at {image_directory_path} **********')\n",
    "        \n",
    "        # set copy image path & copy image\n",
    "        copy_image_path = image_directory_path.joinpath(image_path.name)\n",
    "        shutil.copy(image_path, copy_image_path)\n",
    "        \n",
    "        # set new image name to \"page {index}{file_extension}\"\n",
    "        new_image_name = f'page {str(index)}{file_extension}'\n",
    "        new_image_path = copy_image_path.parents[0].joinpath(new_image_name)\n",
    "        \n",
    "        # rename copied image path to new name\n",
    "        copy_image_path.rename(new_image_path)\n",
    "        \n",
    "        progress_bar.value = index\n",
    "    \n",
    "    glob_string = f'**/*{file_extension}'\n",
    "    images_processed_paths_list = list(ingest_directory_path.glob(glob_string))\n",
    "    logging.info(f'Processed images: {len(images_processed_paths_list)} images in {ingest_directory_path}')"
   ]
  },
  {
   "cell_type": "code",
   "execution_count": 14,
   "metadata": {},
   "outputs": [],
   "source": [
    "parent_directory = r'Z:\\ContinuingPublications\\Alumnus\\delivery'\n",
    "book_name_list = ['alum_2014fall', 'alum_2014summer', 'alum_2015spring']"
   ]
  },
  {
   "cell_type": "code",
   "execution_count": 15,
   "metadata": {},
   "outputs": [
    {
     "name": "stdout",
     "output_type": "stream",
     "text": [
      "Z:\\ContinuingPublications\\Alumnus\\delivery\\alum_2014fall\n",
      "Z:\\ContinuingPublications\\Alumnus\\delivery\\alum_2014summer\n",
      "Z:\\ContinuingPublications\\Alumnus\\delivery\\alum_2015spring\n"
     ]
    }
   ],
   "source": [
    "for directory_name in directory_name_list:\n",
    "    book_directory = Path(parent_directory).joinpath(directory_name)\n",
    "    print(book_directory)"
   ]
  },
  {
   "cell_type": "code",
   "execution_count": 16,
   "metadata": {
    "scrolled": false
   },
   "outputs": [
    {
     "name": "stderr",
     "output_type": "stream",
     "text": [
      "INFO:Processing book at Z:\\ContinuingPublications\\Alumnus\\delivery\\alum_2014fall\n",
      "INFO:There are 52 \".tif\"s in \"Z:\\ContinuingPublications\\Alumnus\\delivery\\alum_2014fall\"\n",
      "INFO:ingest directory name: alum_2014fall_CreatedForIslandoraIngest_2019-02-19\n",
      "INFO:ingest directory path: Z:\\ContinuingPublications\\Alumnus\\delivery\\alum_2014fall_CreatedForIslandoraIngest_2019-02-19\n",
      "INFO:To Process: 52 images in Z:\\ContinuingPublications\\Alumnus\\delivery\\alum_2014fall\n"
     ]
    },
    {
     "data": {
      "application/vnd.jupyter.widget-view+json": {
       "model_id": "bf572e1ef2b844d7957e6a639fff6fa5",
       "version_major": 2,
       "version_minor": 0
      },
      "text/plain": [
       "VBox(children=(Label(value='Image Being Processed'), IntProgress(value=0, max=52)))"
      ]
     },
     "metadata": {},
     "output_type": "display_data"
    },
    {
     "name": "stderr",
     "output_type": "stream",
     "text": [
      "INFO:Processed images: 52 images in Z:\\ContinuingPublications\\Alumnus\\delivery\\alum_2014fall_CreatedForIslandoraIngest_2019-02-19\n",
      "INFO:Processing book at Z:\\ContinuingPublications\\Alumnus\\delivery\\alum_2014summer\n",
      "INFO:There are 52 \".tif\"s in \"Z:\\ContinuingPublications\\Alumnus\\delivery\\alum_2014summer\"\n",
      "INFO:ingest directory name: alum_2014summer_CreatedForIslandoraIngest_2019-02-19\n",
      "INFO:ingest directory path: Z:\\ContinuingPublications\\Alumnus\\delivery\\alum_2014summer_CreatedForIslandoraIngest_2019-02-19\n",
      "INFO:To Process: 52 images in Z:\\ContinuingPublications\\Alumnus\\delivery\\alum_2014summer\n"
     ]
    },
    {
     "data": {
      "application/vnd.jupyter.widget-view+json": {
       "model_id": "f71d0fdf7035401cb98bea36e0ca61b9",
       "version_major": 2,
       "version_minor": 0
      },
      "text/plain": [
       "VBox(children=(Label(value='Image Being Processed'), IntProgress(value=0, max=52)))"
      ]
     },
     "metadata": {},
     "output_type": "display_data"
    },
    {
     "name": "stderr",
     "output_type": "stream",
     "text": [
      "INFO:Processed images: 52 images in Z:\\ContinuingPublications\\Alumnus\\delivery\\alum_2014summer_CreatedForIslandoraIngest_2019-02-19\n",
      "INFO:Processing book at Z:\\ContinuingPublications\\Alumnus\\delivery\\alum_2015spring\n",
      "INFO:There are 52 \".tif\"s in \"Z:\\ContinuingPublications\\Alumnus\\delivery\\alum_2015spring\"\n",
      "INFO:ingest directory name: alum_2015spring_CreatedForIslandoraIngest_2019-02-19\n",
      "INFO:ingest directory path: Z:\\ContinuingPublications\\Alumnus\\delivery\\alum_2015spring_CreatedForIslandoraIngest_2019-02-19\n",
      "INFO:To Process: 52 images in Z:\\ContinuingPublications\\Alumnus\\delivery\\alum_2015spring\n"
     ]
    },
    {
     "data": {
      "application/vnd.jupyter.widget-view+json": {
       "model_id": "048fbba2b5ff440bb1f20ee77a3f2315",
       "version_major": 2,
       "version_minor": 0
      },
      "text/plain": [
       "VBox(children=(Label(value='Image Being Processed'), IntProgress(value=0, max=52)))"
      ]
     },
     "metadata": {},
     "output_type": "display_data"
    },
    {
     "name": "stderr",
     "output_type": "stream",
     "text": [
      "INFO:Processed images: 52 images in Z:\\ContinuingPublications\\Alumnus\\delivery\\alum_2015spring_CreatedForIslandoraIngest_2019-02-19\n"
     ]
    }
   ],
   "source": [
    "for book_name in book_name_list:\n",
    "    book_directory = Path(parent_directory).joinpath(book_name)\n",
    "    \n",
    "    create_subdirectories_for_ingest(book_directory)\n"
   ]
  },
  {
   "cell_type": "code",
   "execution_count": 42,
   "metadata": {},
   "outputs": [],
   "source": [
    "root = r'Z:\\ContinuingPublications\\basketball-men\\delivery'\n",
    "root_path = Path(root)\n",
    "items_list = list(root_path.iterdir())"
   ]
  },
  {
   "cell_type": "code",
   "execution_count": 43,
   "metadata": {},
   "outputs": [],
   "source": [
    "# copy years list to clipboard for Google Sheets\n",
    "df = pd.DataFrame(items_list)\n",
    "df.to_clipboard(index=False, header=False, excel=True, sep='\\t')"
   ]
  },
  {
   "cell_type": "code",
   "execution_count": 22,
   "metadata": {
    "scrolled": true
   },
   "outputs": [
    {
     "name": "stdout",
     "output_type": "stream",
     "text": [
      "1970april_backup_KEEP_to_replace\n",
      "2009spring_test-PDF-to_TIFF\n",
      "2012summer_originals\n",
      "2012winter_orginals\n",
      "2013winter_originals\n",
      "2014fall_originals\n",
      "2014spring_originals\n",
      "2014summer_originals\n",
      "2014winter_originals\n",
      "2015spring\n",
      "Alumnus Fall 2015.pdf\n",
      "Alumnus Fall 2016.pdf\n",
      "Alumnus Fall 2017.pdf\n",
      "Alumnus Spring 2016.pdf\n",
      "Alumnus Spring 2017.pdf\n",
      "Alumnus Winter 2016.pdf\n",
      "Alumnus Winter 2017.pdf\n",
      "Alumnus Winter 2018.pdf\n",
      "Alumnus_missingpages.pdf\n",
      "corrections_2010Nov19_stitched_copy\n",
      "corrections_2010Nov19_unstitched\n",
      "jpg-batching.sh\n",
      "PDFS-fromMediaRelationsCD\n",
      "tesseract-batching.sh\n",
      "tesseract-ocr-stitched-tiffs\n",
      "unstitched_originals_1926-1929_3TiffsAreIncorrectHere\n",
      "UT Alumnus Centennial Book 2017.pdf\n"
     ]
    }
   ],
   "source": [
    "for item in list(root_path.iterdir()):\n",
    "    print(item.name)"
   ]
  },
  {
   "cell_type": "code",
   "execution_count": null,
   "metadata": {},
   "outputs": [],
   "source": [
    "# copy years list to clipboard for Google Sheets\n",
    "df = pd.DataFrame(years_list)\n",
    "df.to_clipboard(index=False, header=False, excel=True, sep='\\t')"
   ]
  }
 ],
 "metadata": {
  "kernelspec": {
   "display_name": "Python 3",
   "language": "python",
   "name": "python3"
  },
  "language_info": {
   "codemirror_mode": {
    "name": "ipython",
    "version": 3
   },
   "file_extension": ".py",
   "mimetype": "text/x-python",
   "name": "python",
   "nbconvert_exporter": "python",
   "pygments_lexer": "ipython3",
   "version": "3.6.8"
  }
 },
 "nbformat": 4,
 "nbformat_minor": 2
}
